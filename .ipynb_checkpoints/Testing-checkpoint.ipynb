{
 "cells": [
  {
   "cell_type": "code",
   "execution_count": 1,
   "metadata": {},
   "outputs": [
    {
     "name": "stdout",
     "output_type": "stream",
     "text": [
      "Hello World\n"
     ]
    }
   ],
   "source": [
    "print('Hello World')"
   ]
  },
  {
   "cell_type": "code",
   "execution_count": 2,
   "metadata": {},
   "outputs": [
    {
     "data": {
      "text/plain": [
       "'/Users/christopherchapa/Documents/MACHINE-LEARNING-CRASH-COURSE'"
      ]
     },
     "execution_count": 2,
     "metadata": {},
     "output_type": "execute_result"
    }
   ],
   "source": [
    "pwd"
   ]
  },
  {
   "cell_type": "code",
   "execution_count": 3,
   "metadata": {},
   "outputs": [
    {
     "name": "stdout",
     "output_type": "stream",
     "text": [
      "/Users/christopherchapa/Documents\n"
     ]
    }
   ],
   "source": [
    "cd .."
   ]
  },
  {
   "cell_type": "code",
   "execution_count": 4,
   "metadata": {},
   "outputs": [
    {
     "data": {
      "text/plain": [
       "'/Users/christopherchapa/Documents'"
      ]
     },
     "execution_count": 4,
     "metadata": {},
     "output_type": "execute_result"
    }
   ],
   "source": [
    "pwd"
   ]
  },
  {
   "cell_type": "code",
   "execution_count": 5,
   "metadata": {},
   "outputs": [
    {
     "name": "stdout",
     "output_type": "stream",
     "text": [
      "total 1328\r\n",
      "-rw-r--r--@  1 christopherchapa  staff  324516 Aug 27  2018 Zach's 21st Letter.pages\r\n",
      "-rw-r--r--@  1 christopherchapa  staff     162 Feb 26  2019 ~$lecting a job opportunity.docx\r\n",
      "-rw-r--r--@  1 christopherchapa  staff  297902 Feb 27  2019 ChristopherChapaDSS_Case1.docx\r\n",
      "drwxr-xr-x   3 christopherchapa  staff      96 May 17  2019 \u001b[34mFXHOME\u001b[m\u001b[m/\r\n",
      "drwxr-xr-x   4 christopherchapa  staff     128 May 17  2019 \u001b[34mFIN 3023 (Spring 2019)\u001b[m\u001b[m/\r\n",
      "drwxr-xr-x   5 christopherchapa  staff     160 May 18  2019 \u001b[34mScholarships\u001b[m\u001b[m/\r\n",
      "drwxr-xr-x  22 christopherchapa  staff     704 May 18  2019 \u001b[34mMentorship with Keating\u001b[m\u001b[m/\r\n",
      "drwxr-xr-x  10 christopherchapa  staff     320 Jul 16  2019 \u001b[34mR Code\u001b[m\u001b[m/\r\n",
      "drwxr-xr-x   4 christopherchapa  staff     128 Jul 16  2019 \u001b[34mExam P Prep\u001b[m\u001b[m/\r\n",
      "drwxr-xr-x   6 christopherchapa  staff     192 Jul 16  2019 \u001b[34mHealth (Spring 2019)\u001b[m\u001b[m/\r\n",
      "drwxr-xr-x   8 christopherchapa  staff     256 Jul 16  2019 \u001b[34mMS 3063 Support Decisions\u001b[m\u001b[m/\r\n",
      "drwxr-xr-x   7 christopherchapa  staff     224 Jul 16  2019 \u001b[34mDesign of Experiments\u001b[m\u001b[m/\r\n",
      "drwxr-xr-x   8 christopherchapa  staff     256 Jul 16  2019 \u001b[34mData Mining\u001b[m\u001b[m/\r\n",
      "drwxr-xr-x   3 christopherchapa  staff      96 Jul 16  2019 \u001b[34mUTSA Grad app \u001b[m\u001b[m/\r\n",
      "drwxr-xr-x  10 christopherchapa  staff     320 Jul 16  2019 \u001b[34mSTA 3013\u001b[m\u001b[m/\r\n",
      "drwxr-xr-x   9 christopherchapa  staff     288 Jul 16  2019 \u001b[34mSAS and R\u001b[m\u001b[m/\r\n",
      "drwxr-xr-x  14 christopherchapa  staff     448 Jul 16  2019 \u001b[34mFIN 3013\u001b[m\u001b[m/\r\n",
      "drwxr-xr-x   5 christopherchapa  staff     160 Jul 16  2019 \u001b[34mBasic Stats\u001b[m\u001b[m/\r\n",
      "drwxr-xr-x   8 christopherchapa  staff     256 Jul 16  2019 \u001b[34mANT 1013\u001b[m\u001b[m/\r\n",
      "drwxr-xr-x   6 christopherchapa  staff     192 Jul 28  2019 \u001b[34mStats Textbooks\u001b[m\u001b[m/\r\n",
      "drwxr-xr-x   9 christopherchapa  staff     288 Aug  2  2019 \u001b[34mInternship Applications Documents\u001b[m\u001b[m/\r\n",
      "drwxr-xr-x   9 christopherchapa  staff     288 Aug  9  2019 \u001b[34mData Science\u001b[m\u001b[m/\r\n",
      "drwxr-xr-x@  2 christopherchapa  staff      64 May  1  2020 \u001b[34mWebEx\u001b[m\u001b[m/\r\n",
      "drwxr-xr-x@ 17 christopherchapa  staff     544 Jun 23  2020 \u001b[34mMS 3073 (Fall 2018)\u001b[m\u001b[m/\r\n",
      "drwxr-xr-x@  4 christopherchapa  staff     128 Oct  7  2020 \u001b[34mAutomate_The_Boring_Stuff\u001b[m\u001b[m/\r\n",
      "drwxr-xr-x@  7 christopherchapa  staff     224 Nov  8  2020 \u001b[34mhands_on_ml\u001b[m\u001b[m/\r\n",
      "drwxr-xr-x@  3 christopherchapa  staff      96 Dec 31  2020 \u001b[34mLeague of Legends\u001b[m\u001b[m/\r\n",
      "drwxr-xr-x@ 14 christopherchapa  staff     448 Jan 24 23:04 \u001b[34mMachine Learning A-Z Python\u001b[m\u001b[m/\r\n",
      "drwxr-xr-x@ 13 christopherchapa  staff     416 Jan 31 21:47 \u001b[34mWebsite_Building\u001b[m\u001b[m/\r\n",
      "drwxr-xr-x@  3 christopherchapa  staff      96 Mar 15 18:55 \u001b[34mTaxes 2020\u001b[m\u001b[m/\r\n",
      "drwxr-xr-x@  8 christopherchapa  staff     256 Jul 10 07:20 \u001b[34mMACHINE-LEARNING-CRASH-COURSE\u001b[m\u001b[m/\r\n"
     ]
    }
   ],
   "source": [
    "ls -ltr"
   ]
  },
  {
   "cell_type": "code",
   "execution_count": 6,
   "metadata": {},
   "outputs": [
    {
     "name": "stdout",
     "output_type": "stream",
     "text": [
      "/Users/christopherchapa/Documents/MACHINE-LEARNING-CRASH-COURSE\n"
     ]
    }
   ],
   "source": [
    "cd MACHINE-LEARNING-CRASH-COURSE/"
   ]
  },
  {
   "cell_type": "code",
   "execution_count": 7,
   "metadata": {},
   "outputs": [
    {
     "data": {
      "text/plain": [
       "'/Users/christopherchapa/Documents/MACHINE-LEARNING-CRASH-COURSE'"
      ]
     },
     "execution_count": 7,
     "metadata": {},
     "output_type": "execute_result"
    }
   ],
   "source": [
    "pwd"
   ]
  },
  {
   "cell_type": "code",
   "execution_count": 8,
   "metadata": {},
   "outputs": [
    {
     "name": "stdout",
     "output_type": "stream",
     "text": [
      "total 24\r\n",
      "-rw-r--r--  1 christopherchapa  staff    95 Jul  9 09:55 README.md\r\n",
      "-rw-r--r--  1 christopherchapa  staff    43 Jul  9 09:56 test.txt\r\n",
      "-rw-r--r--  1 christopherchapa  staff  1164 Jul 10 07:34 Testing.ipynb\r\n"
     ]
    }
   ],
   "source": [
    "ls -ltr"
   ]
  },
  {
   "cell_type": "code",
   "execution_count": null,
   "metadata": {},
   "outputs": [],
   "source": []
  }
 ],
 "metadata": {
  "kernelspec": {
   "display_name": "Python 3",
   "language": "python",
   "name": "python3"
  },
  "language_info": {
   "codemirror_mode": {
    "name": "ipython",
    "version": 3
   },
   "file_extension": ".py",
   "mimetype": "text/x-python",
   "name": "python",
   "nbconvert_exporter": "python",
   "pygments_lexer": "ipython3",
   "version": "3.8.3"
  }
 },
 "nbformat": 4,
 "nbformat_minor": 4
}
