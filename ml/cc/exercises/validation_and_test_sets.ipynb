{
 "cells": [
  {
   "cell_type": "code",
   "execution_count": null,
   "metadata": {
    "cellView": "form",
    "id": "hMqWDc_m6rUC"
   },
   "outputs": [],
   "source": [
    "#@title Copyright 2020 Google LLC. Double-click here for license information.\n",
    "# Licensed under the Apache License, Version 2.0 (the \"License\");\n",
    "# you may not use this file except in compliance with the License.\n",
    "# You may obtain a copy of the License at\n",
    "#\n",
    "# https://www.apache.org/licenses/LICENSE-2.0\n",
    "#\n",
    "# Unless required by applicable law or agreed to in writing, software\n",
    "# distributed under the License is distributed on an \"AS IS\" BASIS,\n",
    "# WITHOUT WARRANTIES OR CONDITIONS OF ANY KIND, either express or implied.\n",
    "# See the License for the specific language governing permissions and\n",
    "# limitations under the License."
   ]
  },
  {
   "cell_type": "markdown",
   "metadata": {
    "id": "4f3CKqFUqL2-"
   },
   "source": [
    "# Validation Sets and Test Sets\n",
    "\n",
    "The previous Colab exercises evaluated the trained model against the training set, which does not provide a strong signal about the quality of your model. In this Colab, you'll experiment with validation sets and test sets.\n",
    "\n",
    "\n",
    "\n",
    "\n"
   ]
  },
  {
   "cell_type": "markdown",
   "metadata": {
    "id": "3spZH_kNkWWX"
   },
   "source": [
    "## Learning objectives\n",
    "\n",
    "After doing this Colab, you'll know how to do the following:\n",
    "\n",
    "  * Split a [training set](https://developers.google.com/machine-learning/glossary/#training_set) into a smaller training set and a [validation set](https://developers.google.com/machine-learning/glossary/#validation_set).\n",
    "  * Analyze deltas between training set and validation set results.\n",
    "  * Test the trained model with a [test set](https://developers.google.com/machine-learning/glossary/#test_set) to determine whether your trained model is [overfitting](https://developers.google.com/machine-learning/glossary/#overfitting).\n",
    "  * Detect and fix a common training problem."
   ]
  },
  {
   "cell_type": "markdown",
   "metadata": {
    "id": "gV82DJO3kWpk"
   },
   "source": [
    "## The dataset\n",
    "\n",
    "As in the previous exercise, this exercise uses the [California Housing dataset](https://developers.google.com/machine-learning/crash-course/california-housing-data-description) to predict the `median_house_value` at the city block level.  Like many \"famous\" datasets, the California Housing Dataset actually consists of two separate datasets, each living in separate .csv files:\n",
    "\n",
    "* The training set is in `california_housing_train.csv`.\n",
    "* The test set is in `california_housing_test.csv`.\n",
    "\n",
    "You'll create the validation set by dividing the downloaded training set into two parts:\n",
    "\n",
    "* a smaller training set  \n",
    "* a validation set"
   ]
  },
  {
   "cell_type": "markdown",
   "metadata": {
    "id": "u84mXopntPFZ"
   },
   "source": [
    "## Use the right version of TensorFlow\n",
    "\n",
    "The following hidden code cell ensures that the Colab will run on TensorFlow 2.X."
   ]
  },
  {
   "cell_type": "code",
   "execution_count": 1,
   "metadata": {
    "cellView": "form",
    "id": "FBhNIdUatOU6"
   },
   "outputs": [
    {
     "name": "stderr",
     "output_type": "stream",
     "text": [
      "UsageError: Line magic function `%tensorflow_version` not found.\n"
     ]
    }
   ],
   "source": [
    "#@title Run on TensorFlow 2.x\n",
    "%tensorflow_version 2.x"
   ]
  },
  {
   "cell_type": "markdown",
   "metadata": {
    "id": "S8gm6BpqRRuh"
   },
   "source": [
    "## Import relevant modules\n",
    "\n",
    "As before, this first code cell imports the necessary modules and sets a few display options."
   ]
  },
  {
   "cell_type": "code",
   "execution_count": 2,
   "metadata": {
    "cellView": "form",
    "id": "9D8GgUovHbG0"
   },
   "outputs": [],
   "source": [
    "#@title Import modules\n",
    "import numpy as np\n",
    "import pandas as pd\n",
    "import tensorflow as tf\n",
    "from matplotlib import pyplot as plt\n",
    "\n",
    "pd.options.display.max_rows = 10\n",
    "pd.options.display.float_format = \"{:.1f}\".format"
   ]
  },
  {
   "cell_type": "markdown",
   "metadata": {
    "id": "xjvrrClQeAJu"
   },
   "source": [
    "## Load the datasets from the internet\n",
    "\n",
    "The following code cell loads the separate .csv files and creates the following two pandas DataFrames:\n",
    "\n",
    "* `train_df`, which contains the training set.\n",
    "* `test_df`, which contains the test set.\n",
    "\n"
   ]
  },
  {
   "cell_type": "code",
   "execution_count": 15,
   "metadata": {
    "id": "zUnTc_wfd_o3"
   },
   "outputs": [
    {
     "data": {
      "text/plain": [
       "0   66900.0\n",
       "1   80100.0\n",
       "2   85700.0\n",
       "3   73400.0\n",
       "4   65500.0\n",
       "Name: median_house_value, dtype: float64"
      ]
     },
     "execution_count": 15,
     "metadata": {},
     "output_type": "execute_result"
    }
   ],
   "source": [
    "train_df = pd.read_csv(\"https://download.mlcc.google.com/mledu-datasets/california_housing_train.csv\")\n",
    "test_df = pd.read_csv(\"https://download.mlcc.google.com/mledu-datasets/california_housing_test.csv\")\n",
    "train_df[\"median_house_value\"].head()"
   ]
  },
  {
   "cell_type": "code",
   "execution_count": 16,
   "metadata": {
    "scrolled": true
   },
   "outputs": [
    {
     "data": {
      "text/plain": [
       "(17000, 9)"
      ]
     },
     "execution_count": 16,
     "metadata": {},
     "output_type": "execute_result"
    }
   ],
   "source": [
    "train_df.describe()\n",
    "train_df.shape\n",
    "#there are 17000 records in the training dataset"
   ]
  },
  {
   "cell_type": "code",
   "execution_count": 17,
   "metadata": {},
   "outputs": [
    {
     "data": {
      "text/plain": [
       "(3000, 9)"
      ]
     },
     "execution_count": 17,
     "metadata": {},
     "output_type": "execute_result"
    }
   ],
   "source": [
    "test_df.describe()\n",
    "test_df.shape\n",
    "#there are 3000 records in the test dataset"
   ]
  },
  {
   "cell_type": "markdown",
   "metadata": {
    "id": "P_KBdj2M_yjM"
   },
   "source": [
    "## Scale the label values\n",
    "\n",
    "The following code cell scales the `median_house_value`. \n",
    "See the previous Colab exercise for details."
   ]
  },
  {
   "cell_type": "code",
   "execution_count": 18,
   "metadata": {
    "id": "3hc7QQhaAFXD"
   },
   "outputs": [
    {
     "data": {
      "text/plain": [
       "0   66.9\n",
       "1   80.1\n",
       "2   85.7\n",
       "3   73.4\n",
       "4   65.5\n",
       "Name: median_house_value, dtype: float64"
      ]
     },
     "execution_count": 18,
     "metadata": {},
     "output_type": "execute_result"
    }
   ],
   "source": [
    "scale_factor = 1000.0\n",
    "\n",
    "# Scale the training set's label.\n",
    "train_df[\"median_house_value\"] /= scale_factor \n",
    "\n",
    "# Scale the test set's label\n",
    "test_df[\"median_house_value\"] /= scale_factor\n",
    "\n",
    "train_df[\"median_house_value\"].head()"
   ]
  },
  {
   "cell_type": "markdown",
   "metadata": {
    "id": "FhessIIV8VPc"
   },
   "source": [
    "## Load the functions that build and train a model\n",
    "\n",
    "The following code cell defines two functions:\n",
    "\n",
    "  * `build_model`, which defines the model's topography.\n",
    "  * `train_model`, which will ultimately train the model, outputting not only the loss value for the training set but also the loss value for the validation set. \n",
    "\n",
    "Since you don't need to understand model building code right now, we've hidden this code cell. As always, you must run hidden code cells."
   ]
  },
  {
   "cell_type": "code",
   "execution_count": 19,
   "metadata": {
    "cellView": "form",
    "id": "bvonhK857msj"
   },
   "outputs": [
    {
     "name": "stdout",
     "output_type": "stream",
     "text": [
      "Defined the build_model and train_model functions.\n"
     ]
    }
   ],
   "source": [
    "#@title Define the functions that build and train a model\n",
    "def build_model(my_learning_rate):\n",
    "  \"\"\"Create and compile a simple linear regression model.\"\"\"\n",
    "  # Most simple tf.keras models are sequential.\n",
    "  model = tf.keras.models.Sequential()\n",
    "\n",
    "  # Add one linear layer to the model to yield a simple linear regressor.\n",
    "  model.add(tf.keras.layers.Dense(units=1, input_shape=(1,)))\n",
    "\n",
    "  # Compile the model topography into code that TensorFlow can efficiently\n",
    "  # execute. Configure training to minimize the model's mean squared error. \n",
    "  model.compile(optimizer=tf.keras.optimizers.RMSprop(lr=my_learning_rate),\n",
    "                loss=\"mean_squared_error\",\n",
    "                metrics=[tf.keras.metrics.RootMeanSquaredError()])\n",
    "\n",
    "  return model               \n",
    "\n",
    "\n",
    "def train_model(model, df, feature, label, my_epochs, \n",
    "                my_batch_size=None, my_validation_split=0.1):\n",
    "  \"\"\"Feed a dataset into the model in order to train it.\"\"\"\n",
    "\n",
    "  history = model.fit(x=df[feature],\n",
    "                      y=df[label],\n",
    "                      batch_size=my_batch_size,\n",
    "                      epochs=my_epochs,\n",
    "                      validation_split=my_validation_split)\n",
    "\n",
    "  # Gather the model's trained weight and bias.\n",
    "  trained_weight = model.get_weights()[0]\n",
    "  trained_bias = model.get_weights()[1]\n",
    "\n",
    "  # The list of epochs is stored separately from the \n",
    "  # rest of history.\n",
    "  epochs = history.epoch\n",
    "  \n",
    "  # Isolate the root mean squared error for each epoch.\n",
    "  hist = pd.DataFrame(history.history)\n",
    "  rmse = hist[\"root_mean_squared_error\"]\n",
    "\n",
    "  return epochs, rmse, history.history   \n",
    "\n",
    "print(\"Defined the build_model and train_model functions.\")"
   ]
  },
  {
   "cell_type": "markdown",
   "metadata": {
    "id": "8gRu4Ri0D8tH"
   },
   "source": [
    "## Define plotting functions\n",
    "\n",
    "The `plot_the_loss_curve` function plots loss vs. epochs for both the training set and the validation set."
   ]
  },
  {
   "cell_type": "code",
   "execution_count": 20,
   "metadata": {
    "cellView": "form",
    "id": "QA7hsqPZDvVM"
   },
   "outputs": [
    {
     "name": "stdout",
     "output_type": "stream",
     "text": [
      "Defined the plot_the_loss_curve function.\n"
     ]
    }
   ],
   "source": [
    "#@title Define the plotting function\n",
    "\n",
    "def plot_the_loss_curve(epochs, mae_training, mae_validation):\n",
    "  \"\"\"Plot a curve of loss vs. epoch.\"\"\"\n",
    "\n",
    "  plt.figure()\n",
    "  plt.xlabel(\"Epoch\")\n",
    "  plt.ylabel(\"Root Mean Squared Error\")\n",
    "\n",
    "  plt.plot(epochs[1:], mae_training[1:], label=\"Training Loss\")\n",
    "  plt.plot(epochs[1:], mae_validation[1:], label=\"Validation Loss\")\n",
    "  plt.legend()\n",
    "  \n",
    "  # We're not going to plot the first epoch, since the loss on the first epoch\n",
    "  # is often substantially greater than the loss for other epochs.\n",
    "  merged_mae_lists = mae_training[1:] + mae_validation[1:]\n",
    "  highest_loss = max(merged_mae_lists)\n",
    "  lowest_loss = min(merged_mae_lists)\n",
    "  delta = highest_loss - lowest_loss\n",
    "  print(delta)\n",
    "\n",
    "  top_of_y_axis = highest_loss + (delta * 0.05)\n",
    "  bottom_of_y_axis = lowest_loss - (delta * 0.05)\n",
    "   \n",
    "  plt.ylim([bottom_of_y_axis, top_of_y_axis])\n",
    "  plt.show()  \n",
    "\n",
    "print(\"Defined the plot_the_loss_curve function.\")"
   ]
  },
  {
   "cell_type": "markdown",
   "metadata": {
    "id": "jipBqEQXlsN8"
   },
   "source": [
    "## Task 1: Experiment with the validation split\n",
    "\n",
    "In the following code cell, you'll see a variable named `validation_split`, which we've initialized at 0.2.  The `validation_split` variable specifies the proportion of the original training set that will serve as the validation set. The original training set contains 17,000 examples. Therefore, a `validation_split` of 0.2 means that:\n",
    "\n",
    "* 17,000 * 0.2 ~= 3,400 examples will become the validation set.\n",
    "* 17,000 * 0.8 ~= 13,600 examples will become the new training set.\n",
    "\n",
    "The following code builds a model, trains it on the training set, and evaluates the built model on both:\n",
    "\n",
    "* The training set.\n",
    "* And the validation set.\n",
    "\n",
    "If the data in the training set is similar to the data in the validation set, then the two loss curves and the final loss values should be almost identical. However, the loss curves and final loss values are **not** almost identical. Hmm, that's odd.  \n",
    "\n",
    "Experiment with two or three different values of `validation_split`.  Do different values of `validation_split` fix the problem? \n"
   ]
  },
  {
   "cell_type": "code",
   "execution_count": 24,
   "metadata": {
    "id": "knP23Taoa00a"
   },
   "outputs": [
    {
     "name": "stdout",
     "output_type": "stream",
     "text": [
      "Train on 10200 samples, validate on 6800 samples\n",
      "Epoch 1/30\n",
      "10200/10200 [==============================] - 1s 80us/sample - loss: 47570.2019 - root_mean_squared_error: 218.1059 - val_loss: 38460.2647 - val_root_mean_squared_error: 196.1129\n",
      "Epoch 2/30\n",
      "10200/10200 [==============================] - 0s 33us/sample - loss: 32435.5896 - root_mean_squared_error: 180.0988 - val_loss: 25462.0452 - val_root_mean_squared_error: 159.5683\n",
      "Epoch 3/30\n",
      "10200/10200 [==============================] - 0s 36us/sample - loss: 21038.7337 - root_mean_squared_error: 145.0473 - val_loss: 15908.8818 - val_root_mean_squared_error: 126.1304\n",
      "Epoch 4/30\n",
      "10200/10200 [==============================] - 0s 37us/sample - loss: 13061.0365 - root_mean_squared_error: 114.2849 - val_loss: 9861.8146 - val_root_mean_squared_error: 99.3067\n",
      "Epoch 5/30\n",
      "10200/10200 [==============================] - 0s 29us/sample - loss: 8631.1201 - root_mean_squared_error: 92.9038 - val_loss: 7124.4537 - val_root_mean_squared_error: 84.4065\n",
      "Epoch 6/30\n",
      "10200/10200 [==============================] - 0s 30us/sample - loss: 7240.3779 - root_mean_squared_error: 85.0904 - val_loss: 6798.1369 - val_root_mean_squared_error: 82.4508\n",
      "Epoch 7/30\n",
      "10200/10200 [==============================] - 0s 30us/sample - loss: 7156.9527 - root_mean_squared_error: 84.5988 - val_loss: 6802.7844 - val_root_mean_squared_error: 82.4790\n",
      "Epoch 8/30\n",
      "10200/10200 [==============================] - 0s 32us/sample - loss: 7152.2271 - root_mean_squared_error: 84.5709 - val_loss: 6809.3780 - val_root_mean_squared_error: 82.5190\n",
      "Epoch 9/30\n",
      "10200/10200 [==============================] - 0s 35us/sample - loss: 7149.4032 - root_mean_squared_error: 84.5541 - val_loss: 6815.3612 - val_root_mean_squared_error: 82.5552\n",
      "Epoch 10/30\n",
      "10200/10200 [==============================] - 0s 41us/sample - loss: 7151.1116 - root_mean_squared_error: 84.5642 - val_loss: 6815.6228 - val_root_mean_squared_error: 82.5568\n",
      "Epoch 11/30\n",
      "10200/10200 [==============================] - 0s 33us/sample - loss: 7149.2863 - root_mean_squared_error: 84.5535 - val_loss: 6818.9051 - val_root_mean_squared_error: 82.5767\n",
      "Epoch 12/30\n",
      "10200/10200 [==============================] - 0s 35us/sample - loss: 7148.6000 - root_mean_squared_error: 84.5494 - val_loss: 6820.6791 - val_root_mean_squared_error: 82.5874\n",
      "Epoch 13/30\n",
      "10200/10200 [==============================] - 0s 39us/sample - loss: 7148.6069 - root_mean_squared_error: 84.5494 - val_loss: 6823.5335 - val_root_mean_squared_error: 82.6047\n",
      "Epoch 14/30\n",
      "10200/10200 [==============================] - 0s 32us/sample - loss: 7147.1589 - root_mean_squared_error: 84.5409 - val_loss: 6825.7191 - val_root_mean_squared_error: 82.6179\n",
      "Epoch 15/30\n",
      "10200/10200 [==============================] - 0s 34us/sample - loss: 7146.9449 - root_mean_squared_error: 84.5396 - val_loss: 6828.1131 - val_root_mean_squared_error: 82.6324\n",
      "Epoch 16/30\n",
      "10200/10200 [==============================] - 0s 37us/sample - loss: 7147.7362 - root_mean_squared_error: 84.5443 - val_loss: 6830.3046 - val_root_mean_squared_error: 82.6457\n",
      "Epoch 17/30\n",
      "10200/10200 [==============================] - 0s 31us/sample - loss: 7146.2029 - root_mean_squared_error: 84.5352 - val_loss: 6832.6081 - val_root_mean_squared_error: 82.6596\n",
      "Epoch 18/30\n",
      "10200/10200 [==============================] - 0s 30us/sample - loss: 7144.8566 - root_mean_squared_error: 84.5273 - val_loss: 6839.3082 - val_root_mean_squared_error: 82.7001\n",
      "Epoch 19/30\n",
      "10200/10200 [==============================] - 0s 35us/sample - loss: 7147.4923 - root_mean_squared_error: 84.5428 - val_loss: 6837.6559 - val_root_mean_squared_error: 82.6901\n",
      "Epoch 20/30\n",
      "10200/10200 [==============================] - 0s 29us/sample - loss: 7145.4206 - root_mean_squared_error: 84.5306 - val_loss: 6835.6034 - val_root_mean_squared_error: 82.6777\n",
      "Epoch 21/30\n",
      "10200/10200 [==============================] - 0s 34us/sample - loss: 7146.5909 - root_mean_squared_error: 84.5375 - val_loss: 6835.7319 - val_root_mean_squared_error: 82.6785\n",
      "Epoch 22/30\n",
      "10200/10200 [==============================] - 0s 35us/sample - loss: 7146.4802 - root_mean_squared_error: 84.5369 - val_loss: 6837.0941 - val_root_mean_squared_error: 82.6867\n",
      "Epoch 23/30\n",
      "10200/10200 [==============================] - 0s 29us/sample - loss: 7146.9065 - root_mean_squared_error: 84.5394 - val_loss: 6835.6273 - val_root_mean_squared_error: 82.6779\n",
      "Epoch 24/30\n",
      "10200/10200 [==============================] - 0s 33us/sample - loss: 7146.8545 - root_mean_squared_error: 84.5391 - val_loss: 6837.6386 - val_root_mean_squared_error: 82.6900\n",
      "Epoch 25/30\n",
      "10200/10200 [==============================] - 0s 39us/sample - loss: 7143.3596 - root_mean_squared_error: 84.5184 - val_loss: 6839.6166 - val_root_mean_squared_error: 82.7020\n",
      "Epoch 26/30\n",
      "10200/10200 [==============================] - 0s 29us/sample - loss: 7146.5636 - root_mean_squared_error: 84.5374 - val_loss: 6839.6989 - val_root_mean_squared_error: 82.7025\n",
      "Epoch 27/30\n",
      "10200/10200 [==============================] - 0s 29us/sample - loss: 7147.0643 - root_mean_squared_error: 84.5403 - val_loss: 6839.3154 - val_root_mean_squared_error: 82.7002\n",
      "Epoch 28/30\n",
      "10200/10200 [==============================] - 0s 29us/sample - loss: 7146.5419 - root_mean_squared_error: 84.5372 - val_loss: 6838.9455 - val_root_mean_squared_error: 82.6979\n",
      "Epoch 29/30\n",
      "10200/10200 [==============================] - 0s 25us/sample - loss: 7144.2020 - root_mean_squared_error: 84.5234 - val_loss: 6841.6824 - val_root_mean_squared_error: 82.7145\n",
      "Epoch 30/30\n",
      "10200/10200 [==============================] - 0s 28us/sample - loss: 7146.2829 - root_mean_squared_error: 84.5357 - val_loss: 6839.9860 - val_root_mean_squared_error: 82.7042\n",
      "97.648\n"
     ]
    },
    {
     "data": {
      "image/png": "[encoded data removed]",
      "text/plain": [
       "<Figure size 432x288 with 1 Axes>"
      ]
     },
     "metadata": {
      "needs_background": "light"
     },
     "output_type": "display_data"
    }
   ],
   "source": [
    "# The following variables are the hyperparameters.\n",
    "learning_rate = 0.08\n",
    "epochs = 30\n",
    "batch_size = 100\n",
    "\n",
    "# Split the original training set into a reduced training set and a\n",
    "# validation set. \n",
    "validation_split = 0.4\n",
    "\n",
    "# Identify the feature and the label.\n",
    "my_feature = \"median_income\"    # the median income on a specific city block.\n",
    "my_label = \"median_house_value\" # the median house value on a specific city block.\n",
    "# That is, you're going to create a model that predicts house value based \n",
    "# solely on the neighborhood's median income.  \n",
    "\n",
    "# Discard any pre-existing version of the model.\n",
    "my_model = None\n",
    "\n",
    "# Invoke the functions to build and train the model.\n",
    "my_model = build_model(learning_rate)\n",
    "epochs, rmse, history = train_model(my_model, train_df, my_feature, \n",
    "                                    my_label, epochs, batch_size, \n",
    "                                    validation_split)\n",
    "\n",
    "plot_the_loss_curve(epochs, history[\"root_mean_squared_error\"], \n",
    "                    history[\"val_root_mean_squared_error\"])"
   ]
  },
  {
   "cell_type": "markdown",
   "metadata": {
    "id": "TKa11JK4Pm3f"
   },
   "source": [
    "## Task 2: Determine **why** the loss curves differ\n",
    "\n",
    "No matter how you split the training set and the validation set, the loss curves differ significantly. Evidently, the data in the training set isn't similar enough to the data in the validation set. Counterintuitive? Yes, but this problem is actually pretty common in machine learning. \n",
    "\n",
    "Your task is to determine **why** the loss curves aren't highly similar. As with most issues in machine learning, the problem is rooted in the data itself. To solve this mystery of why the training set and validation set aren't almost identical, write a line or two of [pandas code](https://colab.research.google.com/github/google/eng-edu/blob/main/ml/cc/exercises/pandas_dataframe_ultraquick_tutorial.ipynb?utm_source=validation-colab&utm_medium=colab&utm_campaign=colab-external&utm_content=pandas_tf2-colab&hl=en) in the following code cell.  Here are a couple of hints:\n",
    "\n",
    "  * The previous code cell split the original training set into:\n",
    "    * a reduced training set (the original training set - the validation set)\n",
    "    * the validation set \n",
    "  * By default, the pandas [`head`](https://pandas.pydata.org/pandas-docs/stable/reference/api/pandas.DataFrame.head.html) method outputs the *first* 5 rows of the DataFrame. To see more of the training set, specify the `n` argument to `head` and assign a large positive integer to `n`."
   ]
  },
  {
   "cell_type": "code",
   "execution_count": 25,
   "metadata": {
    "id": "VJQcAZkwJt_p"
   },
   "outputs": [
    {
     "data": {
      "text/html": [
       "<div>\n",
       "<style scoped>\n",
       "    .dataframe tbody tr th:only-of-type {\n",
       "        vertical-align: middle;\n",
       "    }\n",
       "\n",
       "    .dataframe tbody tr th {\n",
       "        vertical-align: top;\n",
       "    }\n",
       "\n",
       "    .dataframe thead th {\n",
       "        text-align: right;\n",
       "    }\n",
       "</style>\n",
       "<table border=\"1\" class=\"dataframe\">\n",
       "  <thead>\n",
       "    <tr style=\"text-align: right;\">\n",
       "      <th></th>\n",
       "      <th>longitude</th>\n",
       "      <th>latitude</th>\n",
       "      <th>housing_median_age</th>\n",
       "      <th>total_rooms</th>\n",
       "      <th>total_bedrooms</th>\n",
       "      <th>population</th>\n",
       "      <th>households</th>\n",
       "      <th>median_income</th>\n",
       "      <th>median_house_value</th>\n",
       "    </tr>\n",
       "  </thead>\n",
       "  <tbody>\n",
       "    <tr>\n",
       "      <th>0</th>\n",
       "      <td>-114.3</td>\n",
       "      <td>34.2</td>\n",
       "      <td>15.0</td>\n",
       "      <td>5612.0</td>\n",
       "      <td>1283.0</td>\n",
       "      <td>1015.0</td>\n",
       "      <td>472.0</td>\n",
       "      <td>1.5</td>\n",
       "      <td>66.9</td>\n",
       "    </tr>\n",
       "    <tr>\n",
       "      <th>1</th>\n",
       "      <td>-114.5</td>\n",
       "      <td>34.4</td>\n",
       "      <td>19.0</td>\n",
       "      <td>7650.0</td>\n",
       "      <td>1901.0</td>\n",
       "      <td>1129.0</td>\n",
       "      <td>463.0</td>\n",
       "      <td>1.8</td>\n",
       "      <td>80.1</td>\n",
       "    </tr>\n",
       "    <tr>\n",
       "      <th>2</th>\n",
       "      <td>-114.6</td>\n",
       "      <td>33.7</td>\n",
       "      <td>17.0</td>\n",
       "      <td>720.0</td>\n",
       "      <td>174.0</td>\n",
       "      <td>333.0</td>\n",
       "      <td>117.0</td>\n",
       "      <td>1.7</td>\n",
       "      <td>85.7</td>\n",
       "    </tr>\n",
       "    <tr>\n",
       "      <th>3</th>\n",
       "      <td>-114.6</td>\n",
       "      <td>33.6</td>\n",
       "      <td>14.0</td>\n",
       "      <td>1501.0</td>\n",
       "      <td>337.0</td>\n",
       "      <td>515.0</td>\n",
       "      <td>226.0</td>\n",
       "      <td>3.2</td>\n",
       "      <td>73.4</td>\n",
       "    </tr>\n",
       "    <tr>\n",
       "      <th>4</th>\n",
       "      <td>-114.6</td>\n",
       "      <td>33.6</td>\n",
       "      <td>20.0</td>\n",
       "      <td>1454.0</td>\n",
       "      <td>326.0</td>\n",
       "      <td>624.0</td>\n",
       "      <td>262.0</td>\n",
       "      <td>1.9</td>\n",
       "      <td>65.5</td>\n",
       "    </tr>\n",
       "    <tr>\n",
       "      <th>...</th>\n",
       "      <td>...</td>\n",
       "      <td>...</td>\n",
       "      <td>...</td>\n",
       "      <td>...</td>\n",
       "      <td>...</td>\n",
       "      <td>...</td>\n",
       "      <td>...</td>\n",
       "      <td>...</td>\n",
       "      <td>...</td>\n",
       "    </tr>\n",
       "    <tr>\n",
       "      <th>995</th>\n",
       "      <td>-117.1</td>\n",
       "      <td>32.5</td>\n",
       "      <td>8.0</td>\n",
       "      <td>6533.0</td>\n",
       "      <td>1217.0</td>\n",
       "      <td>4797.0</td>\n",
       "      <td>1177.0</td>\n",
       "      <td>4.0</td>\n",
       "      <td>144.4</td>\n",
       "    </tr>\n",
       "    <tr>\n",
       "      <th>996</th>\n",
       "      <td>-117.1</td>\n",
       "      <td>34.6</td>\n",
       "      <td>6.0</td>\n",
       "      <td>5110.0</td>\n",
       "      <td>1044.0</td>\n",
       "      <td>1938.0</td>\n",
       "      <td>724.0</td>\n",
       "      <td>3.2</td>\n",
       "      <td>112.8</td>\n",
       "    </tr>\n",
       "    <tr>\n",
       "      <th>997</th>\n",
       "      <td>-117.1</td>\n",
       "      <td>34.2</td>\n",
       "      <td>22.0</td>\n",
       "      <td>4397.0</td>\n",
       "      <td>931.0</td>\n",
       "      <td>1145.0</td>\n",
       "      <td>445.0</td>\n",
       "      <td>4.5</td>\n",
       "      <td>108.4</td>\n",
       "    </tr>\n",
       "    <tr>\n",
       "      <th>998</th>\n",
       "      <td>-117.1</td>\n",
       "      <td>34.0</td>\n",
       "      <td>24.0</td>\n",
       "      <td>4144.0</td>\n",
       "      <td>826.0</td>\n",
       "      <td>2127.0</td>\n",
       "      <td>772.0</td>\n",
       "      <td>2.5</td>\n",
       "      <td>96.0</td>\n",
       "    </tr>\n",
       "    <tr>\n",
       "      <th>999</th>\n",
       "      <td>-117.1</td>\n",
       "      <td>33.6</td>\n",
       "      <td>6.0</td>\n",
       "      <td>1868.0</td>\n",
       "      <td>289.0</td>\n",
       "      <td>750.0</td>\n",
       "      <td>247.0</td>\n",
       "      <td>4.4</td>\n",
       "      <td>307.6</td>\n",
       "    </tr>\n",
       "  </tbody>\n",
       "</table>\n",
       "<p>1000 rows × 9 columns</p>\n",
       "</div>"
      ],
      "text/plain": [
       "     longitude  latitude  housing_median_age  total_rooms  total_bedrooms  \\\n",
       "0       -114.3      34.2                15.0       5612.0          1283.0   \n",
       "1       -114.5      34.4                19.0       7650.0          1901.0   \n",
       "2       -114.6      33.7                17.0        720.0           174.0   \n",
       "3       -114.6      33.6                14.0       1501.0           337.0   \n",
       "4       -114.6      33.6                20.0       1454.0           326.0   \n",
       "..         ...       ...                 ...          ...             ...   \n",
       "995     -117.1      32.5                 8.0       6533.0          1217.0   \n",
       "996     -117.1      34.6                 6.0       5110.0          1044.0   \n",
       "997     -117.1      34.2                22.0       4397.0           931.0   \n",
       "998     -117.1      34.0                24.0       4144.0           826.0   \n",
       "999     -117.1      33.6                 6.0       1868.0           289.0   \n",
       "\n",
       "     population  households  median_income  median_house_value  \n",
       "0        1015.0       472.0            1.5                66.9  \n",
       "1        1129.0       463.0            1.8                80.1  \n",
       "2         333.0       117.0            1.7                85.7  \n",
       "3         515.0       226.0            3.2                73.4  \n",
       "4         624.0       262.0            1.9                65.5  \n",
       "..          ...         ...            ...                 ...  \n",
       "995      4797.0      1177.0            4.0               144.4  \n",
       "996      1938.0       724.0            3.2               112.8  \n",
       "997      1145.0       445.0            4.5               108.4  \n",
       "998      2127.0       772.0            2.5                96.0  \n",
       "999       750.0       247.0            4.4               307.6  \n",
       "\n",
       "[1000 rows x 9 columns]"
      ]
     },
     "execution_count": 25,
     "metadata": {},
     "output_type": "execute_result"
    }
   ],
   "source": [
    "# Write some code in this code cell.\n",
    "train_df.head(1000)"
   ]
  },
  {
   "cell_type": "code",
   "execution_count": 26,
   "metadata": {
    "cellView": "form",
    "id": "EnNvkFwwK8WY"
   },
   "outputs": [
    {
     "data": {
      "text/html": [
       "<div>\n",
       "<style scoped>\n",
       "    .dataframe tbody tr th:only-of-type {\n",
       "        vertical-align: middle;\n",
       "    }\n",
       "\n",
       "    .dataframe tbody tr th {\n",
       "        vertical-align: top;\n",
       "    }\n",
       "\n",
       "    .dataframe thead th {\n",
       "        text-align: right;\n",
       "    }\n",
       "</style>\n",
       "<table border=\"1\" class=\"dataframe\">\n",
       "  <thead>\n",
       "    <tr style=\"text-align: right;\">\n",
       "      <th></th>\n",
       "      <th>longitude</th>\n",
       "      <th>latitude</th>\n",
       "      <th>housing_median_age</th>\n",
       "      <th>total_rooms</th>\n",
       "      <th>total_bedrooms</th>\n",
       "      <th>population</th>\n",
       "      <th>households</th>\n",
       "      <th>median_income</th>\n",
       "      <th>median_house_value</th>\n",
       "    </tr>\n",
       "  </thead>\n",
       "  <tbody>\n",
       "    <tr>\n",
       "      <th>0</th>\n",
       "      <td>-114.3</td>\n",
       "      <td>34.2</td>\n",
       "      <td>15.0</td>\n",
       "      <td>5612.0</td>\n",
       "      <td>1283.0</td>\n",
       "      <td>1015.0</td>\n",
       "      <td>472.0</td>\n",
       "      <td>1.5</td>\n",
       "      <td>66.9</td>\n",
       "    </tr>\n",
       "    <tr>\n",
       "      <th>1</th>\n",
       "      <td>-114.5</td>\n",
       "      <td>34.4</td>\n",
       "      <td>19.0</td>\n",
       "      <td>7650.0</td>\n",
       "      <td>1901.0</td>\n",
       "      <td>1129.0</td>\n",
       "      <td>463.0</td>\n",
       "      <td>1.8</td>\n",
       "      <td>80.1</td>\n",
       "    </tr>\n",
       "    <tr>\n",
       "      <th>2</th>\n",
       "      <td>-114.6</td>\n",
       "      <td>33.7</td>\n",
       "      <td>17.0</td>\n",
       "      <td>720.0</td>\n",
       "      <td>174.0</td>\n",
       "      <td>333.0</td>\n",
       "      <td>117.0</td>\n",
       "      <td>1.7</td>\n",
       "      <td>85.7</td>\n",
       "    </tr>\n",
       "    <tr>\n",
       "      <th>3</th>\n",
       "      <td>-114.6</td>\n",
       "      <td>33.6</td>\n",
       "      <td>14.0</td>\n",
       "      <td>1501.0</td>\n",
       "      <td>337.0</td>\n",
       "      <td>515.0</td>\n",
       "      <td>226.0</td>\n",
       "      <td>3.2</td>\n",
       "      <td>73.4</td>\n",
       "    </tr>\n",
       "    <tr>\n",
       "      <th>4</th>\n",
       "      <td>-114.6</td>\n",
       "      <td>33.6</td>\n",
       "      <td>20.0</td>\n",
       "      <td>1454.0</td>\n",
       "      <td>326.0</td>\n",
       "      <td>624.0</td>\n",
       "      <td>262.0</td>\n",
       "      <td>1.9</td>\n",
       "      <td>65.5</td>\n",
       "    </tr>\n",
       "    <tr>\n",
       "      <th>...</th>\n",
       "      <td>...</td>\n",
       "      <td>...</td>\n",
       "      <td>...</td>\n",
       "      <td>...</td>\n",
       "      <td>...</td>\n",
       "      <td>...</td>\n",
       "      <td>...</td>\n",
       "      <td>...</td>\n",
       "      <td>...</td>\n",
       "    </tr>\n",
       "    <tr>\n",
       "      <th>995</th>\n",
       "      <td>-117.1</td>\n",
       "      <td>32.5</td>\n",
       "      <td>8.0</td>\n",
       "      <td>6533.0</td>\n",
       "      <td>1217.0</td>\n",
       "      <td>4797.0</td>\n",
       "      <td>1177.0</td>\n",
       "      <td>4.0</td>\n",
       "      <td>144.4</td>\n",
       "    </tr>\n",
       "    <tr>\n",
       "      <th>996</th>\n",
       "      <td>-117.1</td>\n",
       "      <td>34.6</td>\n",
       "      <td>6.0</td>\n",
       "      <td>5110.0</td>\n",
       "      <td>1044.0</td>\n",
       "      <td>1938.0</td>\n",
       "      <td>724.0</td>\n",
       "      <td>3.2</td>\n",
       "      <td>112.8</td>\n",
       "    </tr>\n",
       "    <tr>\n",
       "      <th>997</th>\n",
       "      <td>-117.1</td>\n",
       "      <td>34.2</td>\n",
       "      <td>22.0</td>\n",
       "      <td>4397.0</td>\n",
       "      <td>931.0</td>\n",
       "      <td>1145.0</td>\n",
       "      <td>445.0</td>\n",
       "      <td>4.5</td>\n",
       "      <td>108.4</td>\n",
       "    </tr>\n",
       "    <tr>\n",
       "      <th>998</th>\n",
       "      <td>-117.1</td>\n",
       "      <td>34.0</td>\n",
       "      <td>24.0</td>\n",
       "      <td>4144.0</td>\n",
       "      <td>826.0</td>\n",
       "      <td>2127.0</td>\n",
       "      <td>772.0</td>\n",
       "      <td>2.5</td>\n",
       "      <td>96.0</td>\n",
       "    </tr>\n",
       "    <tr>\n",
       "      <th>999</th>\n",
       "      <td>-117.1</td>\n",
       "      <td>33.6</td>\n",
       "      <td>6.0</td>\n",
       "      <td>1868.0</td>\n",
       "      <td>289.0</td>\n",
       "      <td>750.0</td>\n",
       "      <td>247.0</td>\n",
       "      <td>4.4</td>\n",
       "      <td>307.6</td>\n",
       "    </tr>\n",
       "  </tbody>\n",
       "</table>\n",
       "<p>1000 rows × 9 columns</p>\n",
       "</div>"
      ],
      "text/plain": [
       "     longitude  latitude  housing_median_age  total_rooms  total_bedrooms  \\\n",
       "0       -114.3      34.2                15.0       5612.0          1283.0   \n",
       "1       -114.5      34.4                19.0       7650.0          1901.0   \n",
       "2       -114.6      33.7                17.0        720.0           174.0   \n",
       "3       -114.6      33.6                14.0       1501.0           337.0   \n",
       "4       -114.6      33.6                20.0       1454.0           326.0   \n",
       "..         ...       ...                 ...          ...             ...   \n",
       "995     -117.1      32.5                 8.0       6533.0          1217.0   \n",
       "996     -117.1      34.6                 6.0       5110.0          1044.0   \n",
       "997     -117.1      34.2                22.0       4397.0           931.0   \n",
       "998     -117.1      34.0                24.0       4144.0           826.0   \n",
       "999     -117.1      33.6                 6.0       1868.0           289.0   \n",
       "\n",
       "     population  households  median_income  median_house_value  \n",
       "0        1015.0       472.0            1.5                66.9  \n",
       "1        1129.0       463.0            1.8                80.1  \n",
       "2         333.0       117.0            1.7                85.7  \n",
       "3         515.0       226.0            3.2                73.4  \n",
       "4         624.0       262.0            1.9                65.5  \n",
       "..          ...         ...            ...                 ...  \n",
       "995      4797.0      1177.0            4.0               144.4  \n",
       "996      1938.0       724.0            3.2               112.8  \n",
       "997      1145.0       445.0            4.5               108.4  \n",
       "998      2127.0       772.0            2.5                96.0  \n",
       "999       750.0       247.0            4.4               307.6  \n",
       "\n",
       "[1000 rows x 9 columns]"
      ]
     },
     "execution_count": 26,
     "metadata": {},
     "output_type": "execute_result"
    }
   ],
   "source": [
    "#@title Double-click for a possible solution to Task 2.\n",
    "\n",
    "# Examine examples 0 through 4 and examples 25 through 29\n",
    "# of the training set\n",
    "train_df.head(n=1000)\n",
    "\n",
    "# The original training set is sorted by longitude. \n",
    "# Apparently, longitude influences the relationship of\n",
    "# total_rooms to median_house_value."
   ]
  },
  {
   "cell_type": "markdown",
   "metadata": {
    "id": "rw4xI1ZEckI8"
   },
   "source": [
    "## Task 3. Fix the problem\n",
    "\n",
    "To fix the problem, shuffle the examples in the training set before splitting the examples into a training set and validation set. To do so, take the following steps:\n",
    "\n",
    "1. Shuffle the data in the training set by adding the following line anywhere before you call `train_model` (in the code cell associated with Task 1):\n",
    "\n",
    "```\n",
    "  shuffled_train_df = train_df.reindex(np.random.permutation(train_df.index))\n",
    "```                                    \n",
    "\n",
    "2. Pass `shuffled_train_df` (instead of `train_df`) as the second argument to `train_model` (in the code call associated with Task 1) so that the call becomes as follows:\n",
    "\n",
    "```\n",
    "  epochs, rmse, history = train_model(my_model, shuffled_train_df, my_feature, \n",
    "                                      my_label, epochs, batch_size, \n",
    "                                      validation_split)\n",
    "```"
   ]
  },
  {
   "cell_type": "code",
   "execution_count": 27,
   "metadata": {
    "cellView": "form",
    "id": "ncODhpv0h-LG"
   },
   "outputs": [
    {
     "name": "stdout",
     "output_type": "stream",
     "text": [
      "Train on 13600 samples, validate on 3400 samples\n",
      "Epoch 1/70\n",
      "13600/13600 [==============================] - 1s 68us/sample - loss: 44057.8343 - root_mean_squared_error: 209.8996 - val_loss: 33778.8680 - val_root_mean_squared_error: 183.7903\n",
      "Epoch 2/70\n",
      "13600/13600 [==============================] - 0s 31us/sample - loss: 25764.8259 - root_mean_squared_error: 160.5143 - val_loss: 18769.8606 - val_root_mean_squared_error: 137.0031\n",
      "Epoch 3/70\n",
      "13600/13600 [==============================] - 0s 24us/sample - loss: 13841.4252 - root_mean_squared_error: 117.6496 - val_loss: 10010.9556 - val_root_mean_squared_error: 100.0548\n",
      "Epoch 4/70\n",
      "13600/13600 [==============================] - 0s 20us/sample - loss: 8102.2009 - root_mean_squared_error: 90.0122 - val_loss: 7161.0490 - val_root_mean_squared_error: 84.6230\n",
      "Epoch 5/70\n",
      "13600/13600 [==============================] - 0s 21us/sample - loss: 7003.4772 - root_mean_squared_error: 83.6868 - val_loss: 7100.0808 - val_root_mean_squared_error: 84.2620\n",
      "Epoch 6/70\n",
      "13600/13600 [==============================] - 0s 25us/sample - loss: 6994.7652 - root_mean_squared_error: 83.6347 - val_loss: 7100.3777 - val_root_mean_squared_error: 84.2637\n",
      "Epoch 7/70\n",
      "13600/13600 [==============================] - 0s 21us/sample - loss: 6994.0934 - root_mean_squared_error: 83.6307 - val_loss: 7096.2647 - val_root_mean_squared_error: 84.2393\n",
      "Epoch 8/70\n",
      "13600/13600 [==============================] - 0s 20us/sample - loss: 6994.7680 - root_mean_squared_error: 83.6347 - val_loss: 7097.6050 - val_root_mean_squared_error: 84.2473\n",
      "Epoch 9/70\n",
      "13600/13600 [==============================] - 0s 24us/sample - loss: 6994.8436 - root_mean_squared_error: 83.6352 - val_loss: 7095.8392 - val_root_mean_squared_error: 84.2368\n",
      "Epoch 10/70\n",
      "13600/13600 [==============================] - 0s 22us/sample - loss: 6994.4089 - root_mean_squared_error: 83.6326 - val_loss: 7095.8967 - val_root_mean_squared_error: 84.2371\n",
      "Epoch 11/70\n",
      "13600/13600 [==============================] - 0s 22us/sample - loss: 6994.8378 - root_mean_squared_error: 83.6352 - val_loss: 7096.2614 - val_root_mean_squared_error: 84.2393\n",
      "Epoch 12/70\n",
      "13600/13600 [==============================] - 0s 23us/sample - loss: 6994.3212 - root_mean_squared_error: 83.6321 - val_loss: 7095.6484 - val_root_mean_squared_error: 84.2357\n",
      "Epoch 13/70\n",
      "13600/13600 [==============================] - 0s 25us/sample - loss: 6994.7891 - root_mean_squared_error: 83.6349 - val_loss: 7096.0582 - val_root_mean_squared_error: 84.2381\n",
      "Epoch 14/70\n",
      "13600/13600 [==============================] - 0s 21us/sample - loss: 6994.6983 - root_mean_squared_error: 83.6343 - val_loss: 7095.9181 - val_root_mean_squared_error: 84.2373\n",
      "Epoch 15/70\n",
      "13600/13600 [==============================] - 0s 25us/sample - loss: 6994.0818 - root_mean_squared_error: 83.6306 - val_loss: 7096.0688 - val_root_mean_squared_error: 84.2382\n",
      "Epoch 16/70\n",
      "13600/13600 [==============================] - 0s 25us/sample - loss: 6994.7525 - root_mean_squared_error: 83.6346 - val_loss: 7095.6586 - val_root_mean_squared_error: 84.2357\n",
      "Epoch 17/70\n",
      "13600/13600 [==============================] - 0s 23us/sample - loss: 6994.7554 - root_mean_squared_error: 83.6347 - val_loss: 7095.5157 - val_root_mean_squared_error: 84.2349\n",
      "Epoch 18/70\n",
      "13600/13600 [==============================] - 0s 22us/sample - loss: 6992.1509 - root_mean_squared_error: 83.6191 - val_loss: 7095.9731 - val_root_mean_squared_error: 84.2376\n",
      "Epoch 19/70\n",
      "13600/13600 [==============================] - 0s 26us/sample - loss: 6992.8545 - root_mean_squared_error: 83.6233 - val_loss: 7101.4814 - val_root_mean_squared_error: 84.2703\n",
      "Epoch 20/70\n",
      "13600/13600 [==============================] - 0s 23us/sample - loss: 6994.9066 - root_mean_squared_error: 83.6356 - val_loss: 7097.2528 - val_root_mean_squared_error: 84.2452\n",
      "Epoch 21/70\n",
      "13600/13600 [==============================] - 0s 23us/sample - loss: 6994.4041 - root_mean_squared_error: 83.6326 - val_loss: 7099.1205 - val_root_mean_squared_error: 84.2563\n",
      "Epoch 22/70\n",
      "13600/13600 [==============================] - 0s 24us/sample - loss: 6994.7416 - root_mean_squared_error: 83.6346 - val_loss: 7095.3297 - val_root_mean_squared_error: 84.2338\n",
      "Epoch 23/70\n",
      "13600/13600 [==============================] - ETA: 0s - loss: 6976.1183 - root_mean_squared_error: 83.523 - 0s 25us/sample - loss: 6993.4278 - root_mean_squared_error: 83.6267 - val_loss: 7096.2260 - val_root_mean_squared_error: 84.2391\n",
      "Epoch 24/70\n",
      "13600/13600 [==============================] - 0s 22us/sample - loss: 6993.4730 - root_mean_squared_error: 83.6270 - val_loss: 7102.4657 - val_root_mean_squared_error: 84.2761\n",
      "Epoch 25/70\n",
      "13600/13600 [==============================] - 0s 26us/sample - loss: 6994.5488 - root_mean_squared_error: 83.6334 - val_loss: 7095.6087 - val_root_mean_squared_error: 84.2354\n",
      "Epoch 26/70\n",
      "13600/13600 [==============================] - 0s 26us/sample - loss: 6992.7730 - root_mean_squared_error: 83.6228 - val_loss: 7102.3653 - val_root_mean_squared_error: 84.2755\n",
      "Epoch 27/70\n",
      "13600/13600 [==============================] - 0s 34us/sample - loss: 6994.9959 - root_mean_squared_error: 83.6361 - val_loss: 7095.5330 - val_root_mean_squared_error: 84.2350\n",
      "Epoch 28/70\n",
      "13600/13600 [==============================] - 0s 33us/sample - loss: 6994.2670 - root_mean_squared_error: 83.6317 - val_loss: 7097.4911 - val_root_mean_squared_error: 84.2466\n",
      "Epoch 29/70\n",
      "13600/13600 [==============================] - 0s 33us/sample - loss: 6994.7150 - root_mean_squared_error: 83.6344 - val_loss: 7095.7792 - val_root_mean_squared_error: 84.2365\n",
      "Epoch 30/70\n",
      "13600/13600 [==============================] - 0s 26us/sample - loss: 6995.0340 - root_mean_squared_error: 83.6363 - val_loss: 7095.1791 - val_root_mean_squared_error: 84.2329\n",
      "Epoch 31/70\n",
      "13600/13600 [==============================] - 0s 22us/sample - loss: 6993.2601 - root_mean_squared_error: 83.6257 - val_loss: 7095.4266 - val_root_mean_squared_error: 84.2344\n",
      "Epoch 32/70\n",
      "13600/13600 [==============================] - 0s 25us/sample - loss: 6993.9525 - root_mean_squared_error: 83.6299 - val_loss: 7096.3078 - val_root_mean_squared_error: 84.2396\n",
      "Epoch 33/70\n",
      "13600/13600 [==============================] - 0s 24us/sample - loss: 6994.5442 - root_mean_squared_error: 83.6334 - val_loss: 7096.8827 - val_root_mean_squared_error: 84.2430\n",
      "Epoch 34/70\n",
      "13600/13600 [==============================] - 0s 22us/sample - loss: 6995.1232 - root_mean_squared_error: 83.6369 - val_loss: 7097.9309 - val_root_mean_squared_error: 84.2492\n",
      "Epoch 35/70\n",
      "13600/13600 [==============================] - 0s 22us/sample - loss: 6994.0691 - root_mean_squared_error: 83.6305 - val_loss: 7099.2833 - val_root_mean_squared_error: 84.2572\n",
      "Epoch 36/70\n",
      "13600/13600 [==============================] - 0s 25us/sample - loss: 6993.4086 - root_mean_squared_error: 83.6266 - val_loss: 7108.0957 - val_root_mean_squared_error: 84.3095\n",
      "Epoch 37/70\n",
      "13600/13600 [==============================] - 0s 21us/sample - loss: 6995.3033 - root_mean_squared_error: 83.6379 - val_loss: 7099.3912 - val_root_mean_squared_error: 84.2579\n",
      "Epoch 38/70\n",
      "13600/13600 [==============================] - 0s 22us/sample - loss: 6994.1056 - root_mean_squared_error: 83.6308 - val_loss: 7098.7746 - val_root_mean_squared_error: 84.2542\n",
      "Epoch 39/70\n",
      "13600/13600 [==============================] - 0s 30us/sample - loss: 6993.0471 - root_mean_squared_error: 83.6244 - val_loss: 7110.4833 - val_root_mean_squared_error: 84.3237\n",
      "Epoch 40/70\n",
      "13600/13600 [==============================] - 0s 33us/sample - loss: 6995.7299 - root_mean_squared_error: 83.6405 - val_loss: 7095.5468 - val_root_mean_squared_error: 84.2351\n",
      "Epoch 41/70\n",
      "13600/13600 [==============================] - 1s 44us/sample - loss: 6992.5027 - root_mean_squared_error: 83.6212 - val_loss: 7100.1966 - val_root_mean_squared_error: 84.2627\n",
      "Epoch 42/70\n",
      "13600/13600 [==============================] - 0s 31us/sample - loss: 6994.8554 - root_mean_squared_error: 83.6352 - val_loss: 7096.1221 - val_root_mean_squared_error: 84.2385\n",
      "Epoch 43/70\n",
      "13600/13600 [==============================] - 0s 31us/sample - loss: 6993.4402 - root_mean_squared_error: 83.6268 - val_loss: 7096.4641 - val_root_mean_squared_error: 84.2405\n"
     ]
    },
    {
     "name": "stdout",
     "output_type": "stream",
     "text": [
      "Epoch 44/70\n",
      "13600/13600 [==============================] - 0s 32us/sample - loss: 6994.1598 - root_mean_squared_error: 83.6311 - val_loss: 7096.1891 - val_root_mean_squared_error: 84.2389\n",
      "Epoch 45/70\n",
      "13600/13600 [==============================] - 0s 31us/sample - loss: 6994.5000 - root_mean_squared_error: 83.6331 - val_loss: 7095.6989 - val_root_mean_squared_error: 84.2360\n",
      "Epoch 46/70\n",
      "13600/13600 [==============================] - 0s 28us/sample - loss: 6994.3642 - root_mean_squared_error: 83.6323 - val_loss: 7095.8507 - val_root_mean_squared_error: 84.2369\n",
      "Epoch 47/70\n",
      "13600/13600 [==============================] - 0s 28us/sample - loss: 6994.5331 - root_mean_squared_error: 83.6333 - val_loss: 7095.7417 - val_root_mean_squared_error: 84.2362\n",
      "Epoch 48/70\n",
      "13600/13600 [==============================] - 0s 28us/sample - loss: 6994.6912 - root_mean_squared_error: 83.6343 - val_loss: 7098.5179 - val_root_mean_squared_error: 84.2527\n",
      "Epoch 49/70\n",
      "13600/13600 [==============================] - 0s 25us/sample - loss: 6994.4226 - root_mean_squared_error: 83.6327 - val_loss: 7095.8269 - val_root_mean_squared_error: 84.2367\n",
      "Epoch 50/70\n",
      "13600/13600 [==============================] - 0s 25us/sample - loss: 6994.6456 - root_mean_squared_error: 83.6340 - val_loss: 7096.1497 - val_root_mean_squared_error: 84.2386\n",
      "Epoch 51/70\n",
      "13600/13600 [==============================] - 0s 27us/sample - loss: 6994.5619 - root_mean_squared_error: 83.6335 - val_loss: 7095.6491 - val_root_mean_squared_error: 84.2357\n",
      "Epoch 52/70\n",
      "13600/13600 [==============================] - 0s 25us/sample - loss: 6994.7899 - root_mean_squared_error: 83.6349 - val_loss: 7098.4007 - val_root_mean_squared_error: 84.2520\n",
      "Epoch 53/70\n",
      "13600/13600 [==============================] - 0s 25us/sample - loss: 6994.8303 - root_mean_squared_error: 83.6351 - val_loss: 7096.9599 - val_root_mean_squared_error: 84.2435\n",
      "Epoch 54/70\n",
      "13600/13600 [==============================] - 0s 29us/sample - loss: 6992.4749 - root_mean_squared_error: 83.6210 - val_loss: 7097.4575 - val_root_mean_squared_error: 84.2464\n",
      "Epoch 55/70\n",
      "13600/13600 [==============================] - 0s 24us/sample - loss: 6994.9616 - root_mean_squared_error: 83.6359 - val_loss: 7096.2088 - val_root_mean_squared_error: 84.2390\n",
      "Epoch 56/70\n",
      "13600/13600 [==============================] - 0s 22us/sample - loss: 6993.4364 - root_mean_squared_error: 83.6268 - val_loss: 7098.9511 - val_root_mean_squared_error: 84.2553\n",
      "Epoch 57/70\n",
      "13600/13600 [==============================] - 0s 29us/sample - loss: 6994.8371 - root_mean_squared_error: 83.6351 - val_loss: 7095.8163 - val_root_mean_squared_error: 84.2367\n",
      "Epoch 58/70\n",
      "13600/13600 [==============================] - 0s 27us/sample - loss: 6994.5338 - root_mean_squared_error: 83.6333 - val_loss: 7095.9560 - val_root_mean_squared_error: 84.2375\n",
      "Epoch 59/70\n",
      "13600/13600 [==============================] - 0s 25us/sample - loss: 6993.3961 - root_mean_squared_error: 83.6265 - val_loss: 7097.9687 - val_root_mean_squared_error: 84.2494\n",
      "Epoch 60/70\n",
      "13600/13600 [==============================] - 0s 32us/sample - loss: 6994.3541 - root_mean_squared_error: 83.6323 - val_loss: 7095.6705 - val_root_mean_squared_error: 84.2358\n",
      "Epoch 61/70\n",
      "13600/13600 [==============================] - 0s 25us/sample - loss: 6994.9778 - root_mean_squared_error: 83.6360 - val_loss: 7095.4960 - val_root_mean_squared_error: 84.2348\n",
      "Epoch 62/70\n",
      "13600/13600 [==============================] - 0s 31us/sample - loss: 6995.3479 - root_mean_squared_error: 83.6382 - val_loss: 7095.8680 - val_root_mean_squared_error: 84.2370\n",
      "Epoch 63/70\n",
      "13600/13600 [==============================] - 0s 28us/sample - loss: 6989.0759 - root_mean_squared_error: 83.6007 - val_loss: 7098.5056 - val_root_mean_squared_error: 84.2526\n",
      "Epoch 64/70\n",
      "13600/13600 [==============================] - 0s 30us/sample - loss: 6994.0982 - root_mean_squared_error: 83.6307 - val_loss: 7097.4209 - val_root_mean_squared_error: 84.2462\n",
      "Epoch 65/70\n",
      "13600/13600 [==============================] - 0s 28us/sample - loss: 6991.5485 - root_mean_squared_error: 83.6155 - val_loss: 7097.8192 - val_root_mean_squared_error: 84.2486\n",
      "Epoch 66/70\n",
      "13600/13600 [==============================] - 0s 31us/sample - loss: 6995.0705 - root_mean_squared_error: 83.6365 - val_loss: 7096.7085 - val_root_mean_squared_error: 84.2420\n",
      "Epoch 67/70\n",
      "13600/13600 [==============================] - 0s 31us/sample - loss: 6994.3036 - root_mean_squared_error: 83.6319 - val_loss: 7095.7340 - val_root_mean_squared_error: 84.2362\n",
      "Epoch 68/70\n",
      "13600/13600 [==============================] - 0s 32us/sample - loss: 6993.7073 - root_mean_squared_error: 83.6284 - val_loss: 7099.5913 - val_root_mean_squared_error: 84.2591\n",
      "Epoch 69/70\n",
      "13600/13600 [==============================] - 0s 29us/sample - loss: 6994.9066 - root_mean_squared_error: 83.6356 - val_loss: 7099.0128 - val_root_mean_squared_error: 84.2556\n",
      "Epoch 70/70\n",
      "13600/13600 [==============================] - 0s 31us/sample - loss: 6995.0110 - root_mean_squared_error: 83.6362 - val_loss: 7098.8714 - val_root_mean_squared_error: 84.2548\n",
      "76.913574\n"
     ]
    },
    {
     "data": {
      "image/png": "[encoded data removed]",
      "text/plain": [
       "<Figure size 432x288 with 1 Axes>"
      ]
     },
     "metadata": {
      "needs_background": "light"
     },
     "output_type": "display_data"
    }
   ],
   "source": [
    "#@title Double-click to view the complete implementation.\n",
    "\n",
    "# The following variables are the hyperparameters.\n",
    "learning_rate = 0.08\n",
    "epochs = 70\n",
    "batch_size = 100\n",
    "\n",
    "# Split the original training set into a reduced training set and a\n",
    "# validation set. \n",
    "validation_split = 0.2\n",
    "\n",
    "# Identify the feature and the label.\n",
    "my_feature = \"median_income\"    # the median income on a specific city block.\n",
    "my_label = \"median_house_value\" # the median house value on a specific city block.\n",
    "# That is, you're going to create a model that predicts house value based \n",
    "# solely on the neighborhood's median income.  \n",
    "\n",
    "# Discard any pre-existing version of the model.\n",
    "my_model = None\n",
    "\n",
    "# Shuffle the examples.\n",
    "shuffled_train_df = train_df.reindex(np.random.permutation(train_df.index)) \n",
    "\n",
    "# Invoke the functions to build and train the model. Train on the shuffled\n",
    "# training set.\n",
    "my_model = build_model(learning_rate)\n",
    "epochs, rmse, history = train_model(my_model, shuffled_train_df, my_feature, \n",
    "                                    my_label, epochs, batch_size, \n",
    "                                    validation_split)\n",
    "\n",
    "plot_the_loss_curve(epochs, history[\"root_mean_squared_error\"], \n",
    "                    history[\"val_root_mean_squared_error\"])"
   ]
  },
  {
   "cell_type": "markdown",
   "metadata": {
    "id": "tKN239_miW8C"
   },
   "source": [
    "Experiment with `validation_split` to answer the following questions:\n",
    "\n",
    "* With the training set shuffled, is the final loss for the training set closer to the final loss for the validation set?  \n",
    "* At what range of values of `validation_split` do the final loss values for the training set and validation set diverge meaningfully?  Why?"
   ]
  },
  {
   "cell_type": "code",
   "execution_count": null,
   "metadata": {
    "cellView": "form",
    "id": "-UAJ3Q86iz31"
   },
   "outputs": [],
   "source": [
    "#@title Double-click for the answers to the questions\n",
    "\n",
    "# Yes, after shuffling the original training set, \n",
    "# the final loss for the training set and the \n",
    "# validation set become much closer.\n",
    "\n",
    "# If validation_split < 0.15,\n",
    "# the final loss values for the training set and\n",
    "# validation set diverge meaningfully.  Apparently,\n",
    "# the validation set no longer contains enough examples. "
   ]
  },
  {
   "cell_type": "markdown",
   "metadata": {
    "id": "1PP-O8TOZOeo"
   },
   "source": [
    "## Task 4: Use the Test Dataset to Evaluate Your Model's Performance\n",
    "\n",
    "The test set usually acts as the ultimate judge of a model's quality. The test set can serve as an impartial judge because its examples haven't been used in training the model. Run the following code cell to evaluate the model with the test set:"
   ]
  },
  {
   "cell_type": "code",
   "execution_count": 28,
   "metadata": {
    "id": "nd_Sw2cygOip"
   },
   "outputs": [
    {
     "name": "stdout",
     "output_type": "stream",
     "text": [
      "3000/3000 [==============================] - 0s 14us/sample - loss: 7011.5369 - root_mean_squared_error: 83.7349\n"
     ]
    }
   ],
   "source": [
    "x_test = test_df[my_feature]\n",
    "y_test = test_df[my_label]\n",
    "\n",
    "results = my_model.evaluate(x_test, y_test, batch_size=batch_size)"
   ]
  },
  {
   "cell_type": "markdown",
   "metadata": {
    "id": "qoyQKvsjmV_A"
   },
   "source": [
    "Compare the root mean squared error of the model when evaluated on each of the three datasets:\n",
    "\n",
    "* training set: look for `root_mean_squared_error` in the final training epoch.\n",
    "* validation set: look for `val_root_mean_squared_error` in the final training epoch.\n",
    "* test set: run the preceding code cell and examine the `root_mean_squared_error`.\n",
    "\n",
    "Ideally, the root mean squared error of all three sets should be similar. Are they?"
   ]
  },
  {
   "cell_type": "code",
   "execution_count": 29,
   "metadata": {
    "cellView": "form",
    "id": "FxXtp-aVdIgJ"
   },
   "outputs": [],
   "source": [
    "#@title Double-click for an answer\n",
    "\n",
    "# In our experiments, yes, the rmse values \n",
    "# were similar enough. "
   ]
  }
 ],
 "metadata": {
  "colab": {
   "collapsed_sections": [],
   "name": "Validation and Test Sets.ipynb",
   "private_outputs": true,
   "provenance": []
  },
  "kernelspec": {
   "display_name": "Python [conda env:tensorflow-development] *",
   "language": "python",
   "name": "conda-env-tensorflow-development-py"
  },
  "language_info": {
   "codemirror_mode": {
    "name": "ipython",
    "version": 3
   },
   "file_extension": ".py",
   "mimetype": "text/x-python",
   "name": "python",
   "nbconvert_exporter": "python",
   "pygments_lexer": "ipython3",
   "version": "3.7.9"
  }
 },
 "nbformat": 4,
 "nbformat_minor": 1
}
