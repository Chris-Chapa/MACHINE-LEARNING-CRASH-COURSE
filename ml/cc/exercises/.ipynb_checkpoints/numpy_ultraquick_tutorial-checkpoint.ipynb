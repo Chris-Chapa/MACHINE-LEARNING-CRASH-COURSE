{
 "cells": [
  {
   "cell_type": "code",
   "execution_count": null,
   "metadata": {
    "cellView": "form",
    "id": "JuGzpxT_Z1EU"
   },
   "outputs": [],
   "source": [
    "#@title Copyright 2020 Google LLC. Double-click here for license information.\n",
    "# Licensed under the Apache License, Version 2.0 (the \"License\");\n",
    "# you may not use this file except in compliance with the License.\n",
    "# You may obtain a copy of the License at\n",
    "#\n",
    "# https://www.apache.org/licenses/LICENSE-2.0\n",
    "#\n",
    "# Unless required by applicable law or agreed to in writing, software\n",
    "# distributed under the License is distributed on an \"AS IS\" BASIS,\n",
    "# WITHOUT WARRANTIES OR CONDITIONS OF ANY KIND, either express or implied.\n",
    "# See the License for the specific language governing permissions and\n",
    "# limitations under the License."
   ]
  },
  {
   "cell_type": "markdown",
   "metadata": {
    "id": "T4r2z30vJSbA"
   },
   "source": [
    "# NumPy UltraQuick Tutorial\n",
    "\n",
    "NumPy is a Python library for creating and manipulating vectors and matrices. This Colab is not an exhaustive tutorial on NumPy.  Rather, this Colab teaches you just enough to use NumPy in the Colab exercises of Machine Learning Crash Course. "
   ]
  },
  {
   "cell_type": "markdown",
   "metadata": {
    "id": "vO47lN3aDOAv"
   },
   "source": [
    "## About Colabs\n",
    "\n",
    "Machine Learning Crash Course uses Colaboratories (**Colabs**) for all programming exercises. Colab is Google's implementation of [Jupyter Notebook](https://jupyter.org/). Like all Jupyter Notebooks, a Colab consists of two kinds of components:\n",
    "\n",
    "  * **Text cells**, which contain explanations. You are currently reading a text cell.\n",
    "  * **Code cells**, which contain Python code for you to run. Code cells have a light gray background.\n",
    "\n",
    "You *read* the text cells and *run* the code cells. \n",
    "\n",
    "\n",
    "\n",
    "\n"
   ]
  },
  {
   "cell_type": "markdown",
   "metadata": {
    "id": "SQ-pvdPymocS"
   },
   "source": [
    "### Running code cells\n",
    "\n",
    "You must run code cells in order. In other words, you may only run a code cell once all the code cells preceding it have already been run. \n",
    "\n",
    "To run a code cell:\n",
    "\n",
    "  1. Place the cursor anywhere inside the [ ] area at the top left of a code cell. The area inside the [ ] will display an arrow.\n",
    "  2. Click the arrow.\n",
    "\n",
    "Alternatively, you may invoke **Runtime->Run all**. Note, though, that some of the code cells will fail because not all the coding is complete. (You'll complete the coding as part of the exercise.)"
   ]
  },
  {
   "cell_type": "markdown",
   "metadata": {
    "id": "v9GhD7Fsmoqw"
   },
   "source": [
    "### If you see errors...\n",
    "\n",
    "The most common reasons for seeing code cell errors are as follows:\n",
    "\n",
    "  * You didn't run *all* of the code cells preceding the current code cell.\n",
    "  * If the code cell is labeled as a **Task**, then:\n",
    "    *  You haven't yet written the code that implements the task.\n",
    "    *  You did write the code, but the code contained errors."
   ]
  },
  {
   "cell_type": "markdown",
   "metadata": {
    "id": "Ll9RWewwFwX6"
   },
   "source": [
    "## Import NumPy module\n",
    "\n",
    "Run the following code cell to import the NumPy module:"
   ]
  },
  {
   "cell_type": "code",
   "execution_count": 1,
   "metadata": {
    "id": "guvPzSWYJGZ4"
   },
   "outputs": [],
   "source": [
    "import numpy as np "
   ]
  },
  {
   "cell_type": "markdown",
   "metadata": {
    "id": "7cT9fXS_JUpa"
   },
   "source": [
    "## Populate arrays with specific numbers\n",
    "\n",
    "Call `np.array` to create a NumPy matrix with your own hand-picked values. For example, the following call to `np.array` creates an 8-element vector:"
   ]
  },
  {
   "cell_type": "code",
   "execution_count": 2,
   "metadata": {
    "id": "XxJR5xKpJbB3"
   },
   "outputs": [
    {
     "name": "stdout",
     "output_type": "stream",
     "text": [
      "[1.2 2.4 3.5 4.7 6.1 7.2 8.3 9.5]\n"
     ]
    }
   ],
   "source": [
    "one_dimensional_array = np.array([1.2, 2.4, 3.5, 4.7, 6.1, 7.2, 8.3, 9.5])\n",
    "print(one_dimensional_array)"
   ]
  },
  {
   "cell_type": "markdown",
   "metadata": {
    "id": "RKywqhLTbR1M"
   },
   "source": [
    "You can also use `np.array` to create a two-dimensional matrix. To create a two-dimensional matrix, specify an extra layer of square brackets. For example, the following call creates a 3x2 matrix:"
   ]
  },
  {
   "cell_type": "code",
   "execution_count": 3,
   "metadata": {
    "id": "_veGj18eMCDu"
   },
   "outputs": [
    {
     "name": "stdout",
     "output_type": "stream",
     "text": [
      "[[ 6  5]\n",
      " [11  7]\n",
      " [ 4  8]]\n"
     ]
    }
   ],
   "source": [
    "two_dimensional_array = np.array([[6, 5], [11, 7], [4, 8]])\n",
    "print(two_dimensional_array)"
   ]
  },
  {
   "cell_type": "markdown",
   "metadata": {
    "id": "0ED7eug9CvGR"
   },
   "source": [
    "To populate a matrix with all zeroes, call `np.zeros`. To populate a matrix with all ones, call `np.ones`."
   ]
  },
  {
   "cell_type": "code",
   "execution_count": 4,
   "metadata": {},
   "outputs": [
    {
     "name": "stdout",
     "output_type": "stream",
     "text": [
      "[[0. 0. 0. 0.]\n",
      " [0. 0. 0. 0.]\n",
      " [0. 0. 0. 0.]\n",
      " [0. 0. 0. 0.]]\n"
     ]
    }
   ],
   "source": [
    "zero_array=np.zeros(shape=(4,4))\n",
    "print(zero_array)"
   ]
  },
  {
   "cell_type": "markdown",
   "metadata": {
    "id": "gEy_pdBoROu3"
   },
   "source": [
    "## Populate arrays with sequences of numbers\n",
    "\n",
    "You can populate an array with a sequence of numbers:"
   ]
  },
  {
   "cell_type": "code",
   "execution_count": 5,
   "metadata": {
    "id": "CjHfYWhdQYtO"
   },
   "outputs": [
    {
     "name": "stdout",
     "output_type": "stream",
     "text": [
      "[ 5  6  7  8  9 10 11]\n"
     ]
    }
   ],
   "source": [
    "sequence_of_integers = np.arange(5, 12)\n",
    "print(sequence_of_integers)"
   ]
  },
  {
   "cell_type": "markdown",
   "metadata": {
    "id": "1x3OoWrPWn8S"
   },
   "source": [
    "Notice that `np.arange` generates a sequence that includes the lower bound (5) but not the upper bound (12). "
   ]
  },
  {
   "cell_type": "markdown",
   "metadata": {
    "id": "aiqqxDBINAOY"
   },
   "source": [
    "## Populate arrays with random numbers\n",
    "\n",
    "NumPy provides various functions to populate matrices with random numbers across certain ranges. For example, `np.random.randint` generates random integers between a low and high value. The following call populates a 6-element vector with random integers between 50 and 100. \n",
    "\n",
    "\n"
   ]
  },
  {
   "cell_type": "code",
   "execution_count": 6,
   "metadata": {
    "id": "tG8ao9CsNqw8"
   },
   "outputs": [
    {
     "name": "stdout",
     "output_type": "stream",
     "text": [
      "[95 72 54 88 66 71]\n"
     ]
    }
   ],
   "source": [
    "random_integers_between_50_and_100 = np.random.randint(low=50, high=101, size=(6))\n",
    "print(random_integers_between_50_and_100)"
   ]
  },
  {
   "cell_type": "markdown",
   "metadata": {
    "id": "BSU7lMUcgRm3"
   },
   "source": [
    "Note that the highest generated integer `np.random.randint` is one less than the `high` argument."
   ]
  },
  {
   "cell_type": "markdown",
   "metadata": {
    "id": "lQF6-Eg0ksqE"
   },
   "source": [
    "To create random floating-point values between 0.0 and 1.0, call `np.random.random`. For example:"
   ]
  },
  {
   "cell_type": "code",
   "execution_count": 7,
   "metadata": {
    "id": "6Ny0eXZPk5Ax"
   },
   "outputs": [
    {
     "name": "stdout",
     "output_type": "stream",
     "text": [
      "[0.76541535 0.55793554 0.58110415 0.88985766 0.59321069 0.10677813]\n"
     ]
    }
   ],
   "source": [
    "random_floats_between_0_and_1 = np.random.random([6])\n",
    "print(random_floats_between_0_and_1) "
   ]
  },
  {
   "cell_type": "markdown",
   "metadata": {
    "id": "eXOdSjRlSEf6"
   },
   "source": [
    "## Mathematical Operations on NumPy Operands\n",
    "\n",
    "If you want to add or subtract two vectors or matrices, linear algebra requires that the two operands have the same dimensions. Furthermore, if you want to multiply two vectors or matrices, linear algebra imposes strict rules on the dimensional compatibility of operands. Fortunately, NumPy uses a trick called [**broadcasting**](https://developers.google.com/machine-learning/glossary/#broadcasting) to virtually expand the smaller operand to dimensions compatible for linear algebra. For example, the following operation uses broadcasting to add 2.0 to the value of every item in the vector created in the previous code cell:"
   ]
  },
  {
   "cell_type": "code",
   "execution_count": 8,
   "metadata": {
    "id": "J5E5S0wjRvQr"
   },
   "outputs": [
    {
     "name": "stdout",
     "output_type": "stream",
     "text": [
      "[2.76541535 2.55793554 2.58110415 2.88985766 2.59321069 2.10677813]\n"
     ]
    }
   ],
   "source": [
    "random_floats_between_2_and_3 = random_floats_between_0_and_1 + 2.0\n",
    "print(random_floats_between_2_and_3)"
   ]
  },
  {
   "cell_type": "markdown",
   "metadata": {
    "id": "x6K_poVDPpAg"
   },
   "source": [
    "The following operation also relies on broadcasting to multiply each cell in a vector by 3:"
   ]
  },
  {
   "cell_type": "code",
   "execution_count": 9,
   "metadata": {
    "id": "tYjvXmvFPoPB"
   },
   "outputs": [
    {
     "name": "stdout",
     "output_type": "stream",
     "text": [
      "[285 216 162 264 198 213]\n"
     ]
    }
   ],
   "source": [
    "random_integers_between_150_and_300 = random_integers_between_50_and_100 * 3\n",
    "print(random_integers_between_150_and_300)"
   ]
  },
  {
   "cell_type": "markdown",
   "metadata": {
    "id": "hfYVa8iQTaUL"
   },
   "source": [
    "## Task 1: Create a Linear Dataset\n",
    "\n",
    "Your goal is to create a simple dataset consisting of a single feature and a label as follows:\n",
    "\n",
    "1. Assign a sequence of integers from 6 to 20 (inclusive) to a NumPy array named `feature`.\n",
    "2. Assign 15 values to a NumPy array named `label` such that:\n",
    "\n",
    "```\n",
    "   label = (3)(feature) + 4\n",
    "```\n",
    "For example, the first value for `label` should be:\n",
    "\n",
    "```\n",
    "  label = (3)(6) + 4 = 22\n",
    " ```"
   ]
  },
  {
   "cell_type": "code",
   "execution_count": 10,
   "metadata": {
    "id": "qK9UF2rUc3Y_"
   },
   "outputs": [
    {
     "name": "stdout",
     "output_type": "stream",
     "text": [
      "[ 6  7  8  9 10 11 12 13 14 15 16 17 18 19 20]\n",
      "[22 25 28 31 34 37 40 43 46 49 52 55 58 61 64]\n"
     ]
    }
   ],
   "source": [
    "feature = np.arange(6,21) # write your code here\n",
    "print(feature)\n",
    "label = (feature * 3) + 4   # write your code here\n",
    "print(label)"
   ]
  },
  {
   "cell_type": "code",
   "execution_count": 15,
   "metadata": {
    "cellView": "form",
    "id": "KjtIAYvMTPGl"
   },
   "outputs": [
    {
     "name": "stdout",
     "output_type": "stream",
     "text": [
      "[ 6  7  8  9 10 11 12 13 14 15 16 17 18 19 20]\n",
      "[22 25 28 31 34 37 40 43 46 49 52 55 58 61 64]\n"
     ]
    }
   ],
   "source": [
    "#@title Double-click to see a possible solution to Task 1.\n",
    "feature = np.arange(6, 21)\n",
    "print(feature)\n",
    "label = (feature * 3) + 4\n",
    "print(label)"
   ]
  },
  {
   "cell_type": "markdown",
   "metadata": {
    "id": "RNsjGYRj87PB"
   },
   "source": [
    "## Task 2: Add Some Noise to the Dataset\n",
    "\n",
    "To make your dataset a little more realistic, insert a little random noise into each element of the `label` array you already created. To be more precise, modify each value assigned to `label` by adding a *different* random floating-point value between -2 and +2. \n",
    "\n",
    "Don't rely on broadcasting. Instead, create a `noise` array having the same dimension as `label`."
   ]
  },
  {
   "cell_type": "code",
   "execution_count": 16,
   "metadata": {
    "id": "HF-flFfs9r0q"
   },
   "outputs": [
    {
     "name": "stdout",
     "output_type": "stream",
     "text": [
      "[-1.80659181  0.61880242 -1.35218775  0.1178312  -0.29312974  1.791279\n",
      "  1.7052442  -0.00608527  0.93580912  0.54513795  1.50901788 -0.10492701\n",
      " -1.17579772 -1.34029796 -0.082501  ]\n",
      "[20.19340819 25.61880242 26.64781225 31.1178312  33.70687026 38.791279\n",
      " 41.7052442  42.99391473 46.93580912 49.54513795 53.50901788 54.89507299\n",
      " 56.82420228 59.65970204 63.917499  ]\n"
     ]
    }
   ],
   "source": [
    "noise = (np.random.random([15]) * 4) - 2    # write your code here\n",
    "print(noise)\n",
    "label = label + noise    # write your code here\n",
    "print(label)"
   ]
  },
  {
   "cell_type": "code",
   "execution_count": 17,
   "metadata": {
    "cellView": "form",
    "id": "7chgYKrC93np"
   },
   "outputs": [
    {
     "name": "stdout",
     "output_type": "stream",
     "text": [
      "[ 0.30564246  1.97567913  1.46480111 -1.62076735 -0.58406159  0.4949603\n",
      " -0.8504691   1.78750751  0.92079245  0.34809644  1.30126765 -1.85082271\n",
      "  1.80275657  1.19534331  0.21260739]\n",
      "[20.49905065 27.59448155 28.11261335 29.49706385 33.12280867 39.2862393\n",
      " 40.8547751  44.78142224 47.85660157 49.8932344  54.81028553 53.04425029\n",
      " 58.62695885 60.85504535 64.13010639]\n"
     ]
    }
   ],
   "source": [
    "#@title Double-click to see a possible solution to Task 2.\n",
    "\n",
    "noise = (np.random.random([15]) * 4) - 2\n",
    "print(noise)\n",
    "label = label + noise \n",
    "print(label)"
   ]
  }
 ],
 "metadata": {
  "colab": {
   "collapsed_sections": [],
   "name": "NumPy UltraQuick Tutorial",
   "private_outputs": true,
   "provenance": []
  },
  "kernelspec": {
   "display_name": "Python [conda env:tensorflow-development] *",
   "language": "python",
   "name": "conda-env-tensorflow-development-py"
  },
  "language_info": {
   "codemirror_mode": {
    "name": "ipython",
    "version": 3
   },
   "file_extension": ".py",
   "mimetype": "text/x-python",
   "name": "python",
   "nbconvert_exporter": "python",
   "pygments_lexer": "ipython3",
   "version": "3.7.9"
  }
 },
 "nbformat": 4,
 "nbformat_minor": 1
}
